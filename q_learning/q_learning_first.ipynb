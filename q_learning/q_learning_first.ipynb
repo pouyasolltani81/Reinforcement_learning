{
 "cells": [
  {
   "cell_type": "code",
   "execution_count": 2,
   "id": "1ae1e508-f467-4086-82da-4b94ca06228a",
   "metadata": {
    "tags": []
   },
   "outputs": [],
   "source": [
    "import numpy as np , pandas as pd"
   ]
  },
  {
   "cell_type": "code",
   "execution_count": 4,
   "id": "4179a13a-6ea5-489f-91e2-b1b41ed24e0d",
   "metadata": {
    "tags": []
   },
   "outputs": [],
   "source": [
    "location_to_state = {\n",
    "    'L1': 0,\n",
    "    'L2':1,\n",
    "    'L3':2,\n",
    "    'L4':3,\n",
    "    'L5':4,\n",
    "    'L6':5,\n",
    "    'L7':6,\n",
    "    'L8':7,\n",
    "    'L9':8,\n",
    "}"
   ]
  },
  {
   "cell_type": "code",
   "execution_count": 6,
   "id": "950f9981-cac3-482c-8b4f-cc8fc8d7899e",
   "metadata": {
    "tags": []
   },
   "outputs": [],
   "source": [
    "actions = [0,1,2,3,4,5,6,7,8]"
   ]
  },
  {
   "cell_type": "code",
   "execution_count": 8,
   "id": "1bf129c9-02c2-4bc0-942e-6fac2e585612",
   "metadata": {
    "tags": []
   },
   "outputs": [],
   "source": [
    "rewards = np.array([[0,1,0,0,0,0,0,0,0],\n",
    "                    [1,0,1,0,1,0,0,0,0],\n",
    "                    [0,1,0,0,0,1,0,0,0],\n",
    "                    [0,0,0,0,0,0,1,0,0],\n",
    "                    [0,1,0,0,0,0,0,1,0],\n",
    "                    [0,0,1,0,0,0,0,0,0],\n",
    "                    [0,0,0,1,0,0,0,1,0],\n",
    "                    [0,0,0,0,1,0,1,0,1],\n",
    "                    [0,0,0,0,0,0,0,1,0,]])"
   ]
  },
  {
   "cell_type": "code",
   "execution_count": 10,
   "id": "1dca372d-13e0-4435-9275-97ae91d7517f",
   "metadata": {
    "tags": []
   },
   "outputs": [
    {
     "data": {
      "text/plain": [
       "{0: 'L1',\n",
       " 1: 'L2',\n",
       " 2: 'L3',\n",
       " 3: 'L4',\n",
       " 4: 'L5',\n",
       " 5: 'L6',\n",
       " 6: 'L7',\n",
       " 7: 'L8',\n",
       " 8: 'L9'}"
      ]
     },
     "execution_count": 10,
     "metadata": {},
     "output_type": "execute_result"
    }
   ],
   "source": [
    "state_to_location = dict((state , location) for location,state in location_to_state.items())\n",
    "\n",
    "gamma = 0.75\n",
    "alpha = 0.9 # learning rate\n",
    "state_to_location"
   ]
  },
  {
   "cell_type": "code",
   "execution_count": 12,
   "id": "d753f650-f148-4b73-80a4-b23041bef559",
   "metadata": {
    "tags": []
   },
   "outputs": [],
   "source": [
    "class QAgent():\n",
    "    def __init__(self , alpha , gamma , location_to_state , actions, rewards , state_to_location):\n",
    "        self.gamma = gamma\n",
    "        self.alpha = alpha\n",
    "        \n",
    "        self.location_to_state = location_to_state\n",
    "        self.actions = actions\n",
    "        self.rewards = rewards\n",
    "        self.state_to_location = state_to_location\n",
    "        \n",
    "        M = len(location_to_state)\n",
    "        self.Q = np.zeros((M,M), dtype = None , order = 'C')\n",
    "        \n",
    "    def training(self , start_location , end_location , iterations):\n",
    "        \n",
    "        rewards_new = np.copy(self.rewards)\n",
    "        \n",
    "        ending_state = self.location_to_state[end_location]\n",
    "        rewards_new[ending_state, ending_state] = 999\n",
    "        \n",
    "        #picking a randome current state\n",
    "        for i in range(iterations):\n",
    "            current_state = np.random.randint(0,9)\n",
    "            playable_actions = []\n",
    "            \n",
    "            #iterate through the reward matrix to get the states\n",
    "            #directly reachable frome the randomly chosen current state\n",
    "            #assign those state in a list named playable_actions.\n",
    "            for j in range(9):\n",
    "                if rewards_new[current_state,j] > 0 :\n",
    "                    playable_actions.append(j)\n",
    "                    \n",
    "                    \n",
    "            #choosing a random next state\n",
    "            next_state = np.random.choice(playable_actions)\n",
    "            \n",
    "            #finding temporal difference\n",
    "            TD = rewards_new[current_state, next_state] +  self.gamma * self.Q[next_state, np.argmax(self.Q[next_state,])] - self.Q[current_state , next_state]\n",
    "            \n",
    "            self.Q[current_state , next_state] += self.alpha * TD\n",
    "            \n",
    "        route = [start_location]\n",
    "        next_location = start_location\n",
    "        \n",
    "        # Get the roate\n",
    "        self.get_optimal_route(start_location , end_location , next_location , route , self.Q)\n",
    "        \n",
    "    # Get the optimal route\n",
    "    def get_optimal_route(self , start_location , end_location , next_location , route , Q):\n",
    "        \n",
    "        while (next_location != end_location):\n",
    "            starting_state = self.location_to_state[start_location]\n",
    "            next_state = np.argmax(Q[starting_state,])\n",
    "            next_location = self.state_to_location[next_state]\n",
    "            route.append(next_location)\n",
    "            start_location = next_location\n",
    "            \n",
    "        print(route)"
   ]
  },
  {
   "cell_type": "code",
   "execution_count": 18,
   "id": "74df7b00-d9bb-466c-b001-ec93a88a4581",
   "metadata": {
    "tags": []
   },
   "outputs": [
    {
     "name": "stdout",
     "output_type": "stream",
     "text": [
      "['L2', 'L5', 'L8']\n"
     ]
    }
   ],
   "source": [
    "qagent = QAgent(alpha , gamma , location_to_state , actions , rewards , state_to_location)\n",
    "qagent.training('L2' , 'L8' , 1000)"
   ]
  },
  {
   "cell_type": "code",
   "execution_count": null,
   "id": "c731226c-9caf-4018-8bd1-540a7a9a53df",
   "metadata": {},
   "outputs": [],
   "source": []
  },
  {
   "cell_type": "markdown",
   "id": "9f46d4f8-ea5a-4e8b-967b-617c867f7a4d",
   "metadata": {},
   "source": [
    "# second project Q_learning"
   ]
  },
  {
   "cell_type": "code",
   "execution_count": 25,
   "id": "87a15448-a985-4d1e-b732-6ce2a598e1a0",
   "metadata": {},
   "outputs": [],
   "source": [
    "import numpy as np\n",
    "import gym\n",
    "import random\n",
    "import imageio\n",
    "from tqdm.notebook import trange"
   ]
  },
  {
   "cell_type": "code",
   "execution_count": 27,
   "id": "26016c52-5fec-48b7-afc7-a707586edcc6",
   "metadata": {
    "tags": []
   },
   "outputs": [
    {
     "name": "stdout",
     "output_type": "stream",
     "text": [
      "Observation Space Discrete(16)\n",
      "Sample observation 1\n"
     ]
    }
   ],
   "source": [
    "env = gym.make(\"FrozenLake-v1\",map_name=\"4x4\",is_slippery=False)\n",
    "\n",
    "print(\"Observation Space\", env.observation_space)\n",
    "print(\"Sample observation\", env.observation_space.sample()) # display a random observation"
   ]
  },
  {
   "cell_type": "code",
   "execution_count": 29,
   "id": "b84dc59c-47fb-4d4e-8748-799d8fc2de69",
   "metadata": {
    "tags": []
   },
   "outputs": [
    {
     "name": "stdout",
     "output_type": "stream",
     "text": [
      "Action Space Shape 4\n",
      "Action Space Sample 1\n"
     ]
    }
   ],
   "source": [
    "print(\"Action Space Shape\", env.action_space.n)\n",
    "print(\"Action Space Sample\", env.action_space.sample())"
   ]
  },
  {
   "cell_type": "code",
   "execution_count": 31,
   "id": "1944c5e0-ae48-445d-84ec-25b251bf7930",
   "metadata": {
    "tags": []
   },
   "outputs": [
    {
     "name": "stdout",
     "output_type": "stream",
     "text": [
      "There are  16  possible states\n",
      "There are  4  possible actions\n"
     ]
    }
   ],
   "source": [
    "state_space = env.observation_space.n\n",
    "print(\"There are \", state_space, \" possible states\")\n",
    "\n",
    "action_space = env.action_space.n\n",
    "print(\"There are \", action_space, \" possible actions\")"
   ]
  },
  {
   "cell_type": "code",
   "execution_count": 33,
   "id": "66525952-8fb6-4679-a1c8-31895bb9d225",
   "metadata": {
    "tags": []
   },
   "outputs": [],
   "source": [
    "def initialize_q_table(state_space, action_space):\n",
    "    Qtable = np.zeros((state_space, action_space))\n",
    "    return Qtable\n",
    "\n",
    "Qtable_frozenlake = initialize_q_table(state_space, action_space)"
   ]
  },
  {
   "cell_type": "code",
   "execution_count": 35,
   "id": "88bbd395-3726-4d9c-b8b6-b29618f8f4ef",
   "metadata": {
    "tags": []
   },
   "outputs": [],
   "source": [
    "def epsilon_greedy_policy(Qtable, state, epsilon):\n",
    "    random_int = random.uniform(0,1)\n",
    "    if random_int > epsilon:\n",
    "        action = np.argmax(Qtable[state])\n",
    "    else:\n",
    "        action = env.action_space.sample()\n",
    "    return action"
   ]
  },
  {
   "cell_type": "code",
   "execution_count": 37,
   "id": "68df2d82-3c38-4c58-9984-994ad992a8e0",
   "metadata": {
    "tags": []
   },
   "outputs": [],
   "source": [
    "def greedy_policy(Qtable, state):\n",
    "    action = np.argmax(Qtable[state])\n",
    "    return action"
   ]
  },
  {
   "cell_type": "code",
   "execution_count": 39,
   "id": "e1bfc1c7-21e2-4591-890b-b8e8b0083826",
   "metadata": {
    "tags": []
   },
   "outputs": [],
   "source": [
    "# Training parameters\n",
    "n_training_episodes = 10000\n",
    "learning_rate = 0.7        \n",
    "\n",
    "# Evaluation parameters\n",
    "n_eval_episodes = 100      \n",
    "\n",
    "# Environment parameters\n",
    "env_id = \"FrozenLake-v1\"   \n",
    "max_steps = 99             \n",
    "gamma = 0.95               \n",
    "eval_seed = []             \n",
    "\n",
    "# Exploration parameters\n",
    "max_epsilon = 1.0           \n",
    "min_epsilon = 0.05           \n",
    "decay_rate = 0.0005           "
   ]
  },
  {
   "cell_type": "code",
   "execution_count": 41,
   "id": "2c8f6bab-5d8d-416b-a8d0-ce8604cd47f1",
   "metadata": {
    "tags": []
   },
   "outputs": [],
   "source": [
    "def train(n_training_episodes, min_epsilon, max_epsilon, decay_rate, env, max_steps, Qtable):\n",
    "  for episode in trange(n_training_episodes):\n",
    " \n",
    "    epsilon = min_epsilon + (max_epsilon - min_epsilon)*np.exp(-decay_rate*episode)\n",
    "    # Reset the environment\n",
    "    state = env.reset()\n",
    "    step = 0\n",
    "    done = False\n",
    "\n",
    "    # repeat\n",
    "    for step in range(max_steps):\n",
    "   \n",
    "      action = epsilon_greedy_policy(Qtable, state, epsilon)\n",
    "\n",
    "   \n",
    "      new_state, reward, done, info = env.step(action)\n",
    "\n",
    "   \n",
    "      Qtable[state][action] = Qtable[state][action] + learning_rate * (reward + gamma * np.max(Qtable[new_state]) - Qtable[state][action])\n",
    "\n",
    "      # If done, finish the episode\n",
    "      if done:\n",
    "        break\n",
    "     \n",
    "      # Our state is the new state\n",
    "      state = new_state\n",
    "  return Qtable"
   ]
  },
  {
   "cell_type": "code",
   "execution_count": 43,
   "id": "97495483-ea19-45c1-8d6d-d96d76e7361d",
   "metadata": {
    "tags": []
   },
   "outputs": [
    {
     "data": {
      "application/vnd.jupyter.widget-view+json": {
       "model_id": "0135dee51a3a4a39aa16c7822b086121",
       "version_major": 2,
       "version_minor": 0
      },
      "text/plain": [
       "  0%|          | 0/10000 [00:00<?, ?it/s]"
      ]
     },
     "metadata": {},
     "output_type": "display_data"
    },
    {
     "ename": "ValueError",
     "evalue": "too many values to unpack (expected 4)",
     "output_type": "error",
     "traceback": [
      "\u001b[1;31m---------------------------------------------------------------------------\u001b[0m",
      "\u001b[1;31mValueError\u001b[0m                                Traceback (most recent call last)",
      "Cell \u001b[1;32mIn[43], line 1\u001b[0m\n\u001b[1;32m----> 1\u001b[0m Qtable_frozenlake \u001b[38;5;241m=\u001b[39m train(n_training_episodes, min_epsilon, max_epsilon, decay_rate, env, max_steps, Qtable_frozenlake)\n",
      "Cell \u001b[1;32mIn[41], line 16\u001b[0m, in \u001b[0;36mtrain\u001b[1;34m(n_training_episodes, min_epsilon, max_epsilon, decay_rate, env, max_steps, Qtable)\u001b[0m\n\u001b[0;32m     11\u001b[0m \u001b[38;5;28;01mfor\u001b[39;00m step \u001b[38;5;129;01min\u001b[39;00m \u001b[38;5;28mrange\u001b[39m(max_steps):\n\u001b[0;32m     13\u001b[0m   action \u001b[38;5;241m=\u001b[39m epsilon_greedy_policy(Qtable, state, epsilon)\n\u001b[1;32m---> 16\u001b[0m   new_state, reward, done, info \u001b[38;5;241m=\u001b[39m env\u001b[38;5;241m.\u001b[39mstep(action)\n\u001b[0;32m     19\u001b[0m   Qtable[state][action] \u001b[38;5;241m=\u001b[39m Qtable[state][action] \u001b[38;5;241m+\u001b[39m learning_rate \u001b[38;5;241m*\u001b[39m (reward \u001b[38;5;241m+\u001b[39m gamma \u001b[38;5;241m*\u001b[39m np\u001b[38;5;241m.\u001b[39mmax(Qtable[new_state]) \u001b[38;5;241m-\u001b[39m Qtable[state][action])\n\u001b[0;32m     21\u001b[0m   \u001b[38;5;66;03m# If done, finish the episode\u001b[39;00m\n",
      "\u001b[1;31mValueError\u001b[0m: too many values to unpack (expected 4)"
     ]
    }
   ],
   "source": [
    "Qtable_frozenlake = train(n_training_episodes, min_epsilon, max_epsilon, decay_rate, env, max_steps, Qtable_frozenlake)"
   ]
  },
  {
   "cell_type": "code",
   "execution_count": 245,
   "id": "8ffe5e37-f5e2-408e-9d59-a3bd0e0efd75",
   "metadata": {
    "tags": []
   },
   "outputs": [
    {
     "data": {
      "text/plain": [
       "array([[0.73509189, 0.77378094, 0.77378094, 0.73509189],\n",
       "       [0.73509189, 0.        , 0.81450625, 0.77378094],\n",
       "       [0.77378094, 0.857375  , 0.77378094, 0.81450625],\n",
       "       [0.81450625, 0.        , 0.77378094, 0.77378094],\n",
       "       [0.77378094, 0.81450625, 0.        , 0.73509189],\n",
       "       [0.        , 0.        , 0.        , 0.        ],\n",
       "       [0.        , 0.9025    , 0.        , 0.81450625],\n",
       "       [0.        , 0.        , 0.        , 0.        ],\n",
       "       [0.81450625, 0.        , 0.857375  , 0.77378094],\n",
       "       [0.81450625, 0.9025    , 0.9025    , 0.        ],\n",
       "       [0.857375  , 0.95      , 0.        , 0.857375  ],\n",
       "       [0.        , 0.        , 0.        , 0.        ],\n",
       "       [0.        , 0.        , 0.        , 0.        ],\n",
       "       [0.        , 0.9025    , 0.95      , 0.857375  ],\n",
       "       [0.9025    , 0.95      , 1.        , 0.9025    ],\n",
       "       [0.        , 0.        , 0.        , 0.        ]])"
      ]
     },
     "execution_count": 245,
     "metadata": {},
     "output_type": "execute_result"
    }
   ],
   "source": [
    "Qtable_frozenlake"
   ]
  },
  {
   "cell_type": "code",
   "execution_count": 248,
   "id": "7943045c-c21e-415e-8401-8f61677caa50",
   "metadata": {
    "tags": []
   },
   "outputs": [],
   "source": [
    "def evaluate_agent(env, max_steps, n_eval_episodes, Q, seed):\n",
    "\n",
    "  episode_rewards = []\n",
    "  for episode in range(n_eval_episodes):\n",
    "    if seed:\n",
    "      state = env.reset(seed=seed[episode])\n",
    "    else:\n",
    "      state = env.reset()\n",
    "    step = 0\n",
    "    done = False\n",
    "    total_rewards_ep = 0\n",
    "   \n",
    "    for step in range(max_steps):\n",
    "      # Take the action (index) that have the maximum reward\n",
    "      action = np.argmax(Q[state][:])\n",
    "      new_state, reward, done, info = env.step(action)\n",
    "      total_rewards_ep += reward\n",
    "       \n",
    "      if done:\n",
    "        break\n",
    "      state = new_state\n",
    "    episode_rewards.append(total_rewards_ep)\n",
    "  mean_reward = np.mean(episode_rewards)\n",
    "  std_reward = np.std(episode_rewards)\n",
    "\n",
    "  return mean_reward, std_reward"
   ]
  },
  {
   "cell_type": "code",
   "execution_count": 250,
   "id": "f7a5d015-ba25-4b7b-805c-58890949856a",
   "metadata": {
    "tags": []
   },
   "outputs": [
    {
     "name": "stdout",
     "output_type": "stream",
     "text": [
      "Mean_reward=1.00 +/- 0.00\n"
     ]
    }
   ],
   "source": [
    "# Evaluate our Agent\n",
    "mean_reward, std_reward = evaluate_agent(env, max_steps, n_eval_episodes, Qtable_frozenlake, eval_seed)\n",
    "print(f\"Mean_reward={mean_reward:.2f} +/- {std_reward:.2f}\")"
   ]
  },
  {
   "cell_type": "markdown",
   "id": "4da01641-93c6-4c0a-8106-eb0e3664b563",
   "metadata": {},
   "source": [
    "## visualize"
   ]
  },
  {
   "cell_type": "code",
   "execution_count": 259,
   "id": "7f8c5fd2-4730-4ba1-9dcb-6debc6ef1d0c",
   "metadata": {
    "tags": []
   },
   "outputs": [],
   "source": [
    "def record_video(env, Qtable, out_directory, fps=1):\n",
    "  images = [] \n",
    "  done = False\n",
    "  state = env.reset(seed=random.randint(0,500))\n",
    "  img = env.render(mode='rgb_array')\n",
    "  images.append(img)\n",
    "  while not done:\n",
    "    # Take the action (index) that have the maximum expected future reward given that state\n",
    "    action = np.argmax(Qtable[state][:])\n",
    "    state, reward, done, info = env.step(action) # We directly put next_state = state for recording logic\n",
    "    img = env.render(mode='rgb_array')\n",
    "    images.append(img)\n",
    "  imageio.mimsave(out_directory, [np.array(img) for i, img in enumerate(images)], fps=fps)"
   ]
  },
  {
   "cell_type": "code",
   "execution_count": 265,
   "id": "eb908af8-7cb2-4862-813f-84d53507f273",
   "metadata": {
    "tags": []
   },
   "outputs": [],
   "source": [
    "video_path=\"/content/replay.gif\"\n",
    "video_fps=1\n",
    "record_video(env, Qtable_frozenlake, video_path, video_fps)"
   ]
  },
  {
   "cell_type": "code",
   "execution_count": 267,
   "id": "aace27e3-2f90-49f0-bade-65c935036a02",
   "metadata": {
    "tags": []
   },
   "outputs": [
    {
     "data": {
      "image/gif": "[encoded data removed]",
      "text/plain": [
       "<IPython.core.display.Image object>"
      ]
     },
     "execution_count": 267,
     "metadata": {},
     "output_type": "execute_result"
    }
   ],
   "source": [
    "from IPython.display import Image\n",
    "Image('/content/replay.gif')"
   ]
  },
  {
   "cell_type": "code",
   "execution_count": null,
   "id": "9e4fc4d6-99ba-472c-a6df-43c4cfa4b7ed",
   "metadata": {},
   "outputs": [],
   "source": []
  }
 ],
 "metadata": {
  "kernelspec": {
   "display_name": "Python 3 (ipykernel)",
   "language": "python",
   "name": "python3"
  },
  "language_info": {
   "codemirror_mode": {
    "name": "ipython",
    "version": 3
   },
   "file_extension": ".py",
   "mimetype": "text/x-python",
   "name": "python",
   "nbconvert_exporter": "python",
   "pygments_lexer": "ipython3",
   "version": "3.10.13"
  }
 },
 "nbformat": 4,
 "nbformat_minor": 5
}
